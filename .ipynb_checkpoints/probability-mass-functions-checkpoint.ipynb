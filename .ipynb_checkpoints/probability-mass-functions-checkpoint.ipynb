{
 "cells": [
  {
   "cell_type": "markdown",
   "metadata": {},
   "source": [
    "$\n",
    "    \\newcommand{\\setm}{\\setminus}\n",
    "    \\newcommand{\\Pr}[1]{\\mathbf{P}\\left(#1 \\right)}\n",
    "    \\newcommand{\\given}{\\,\\middle|\\,}\n",
    "    \\newcommand{\\qp}[1]{\\left(#1\\right)}\n",
    "    \\newcommand{\\Var}[1]{\\mathrm{Var}\\left[#1\\right\\]}\n",
    "    \\newcommand{\\E}[1]{\\mathrm{E}\\left[#1\\right\\]}\n",
    "$"
   ]
  },
  {
   "cell_type": "markdown",
   "metadata": {},
   "source": [
    "**Text:** *Stochastic Modeling and Mathematical Statistics* by Francisco J. Samaniego, CRC Press\n"
   ]
  },
  {
   "cell_type": "markdown",
   "metadata": {},
   "source": [
    "## &sect;  2.9\n",
    "### Prob 1\n",
    "\n",
    "To find the value of $c$.\n",
    "- Write $1 = \\sum_{x=1}^k\\frac{cx}{k^2}$ \n",
    "    - Summing the pmf over all terms is unity.\n",
    "- Use the closed form for the $k$th triangular number: $S(k) = k(k+1)/2$.\n",
    "- We find $1 = \\frac{c(k+1)}2$, i.e., $c = \\frac2{k+1}$."
   ]
  },
  {
   "cell_type": "markdown",
   "metadata": {},
   "source": [
    "### Prob 2\n",
    "\n",
    "To demonstrate that $\\frac{1}{x(x+1)}$ is a legitimate pmf for $x \\in \\mathbf{N}$.\n",
    "- Rewrite the pmf with partial fraction decomposition $\\frac{1}{x(x+1)} = \\frac1x - \\frac1{x+1}$.\n",
    "- Sum for all $x$. $\\sum_{x=1}^\\infty \\frac1x - \\frac1{x+1} = (1 - 1/2) + (1/2 - 1/3) + \\ldots $\n",
    "- Collapse the telescoping series: $(1 - 1/2) + (1/2 - 1/3) + \\ldots = 1$."
   ]
  },
  {
   "cell_type": "code",
   "execution_count": 2,
   "metadata": {},
   "outputs": [
    {
     "name": "stderr",
     "output_type": "stream",
     "text": [
      "/home/colton/.local/sage-8.7/local/lib/python2.7/site-packages/sage/repl/rich_output/display_manager.py:592: RichReprWarning: Exception in _rich_repr_ while displaying object: LOCKERROR: matplotlib is trying to acquire the lock\n",
      "    '/home/colton/.sage/matplotlib-1.5.1/.matplotlib_lock-*'\n",
      "and has failed.  This maybe due to any other process holding this\n",
      "lock.  If you are sure no other matplotlib process is running try\n",
      "removing these folders and trying again.\n",
      "\n",
      "  RichReprWarning,\n"
     ]
    },
    {
     "data": {
      "text/plain": [
       "Graphics object consisting of 1 graphics primitive"
      ]
     },
     "execution_count": 2,
     "metadata": {},
     "output_type": "execute_result"
    }
   ],
   "source": [
    "x = var('x')\n",
    "\n",
    "f = 1/(x*(x+1))\n",
    "n = [sum(f,x,1,k) for k in [1..100]]\n",
    "g = list_plot(n, color='green')\n",
    "\n",
    "plot(g)"
   ]
  },
  {
   "cell_type": "markdown",
   "metadata": {},
   "source": [
    "### Prob 3\n",
    "\n",
    "Suppose $X$ the game number $n \\in \\{4,\\ldots, 7\\}$ on which a World Series between equally matched teams ($p=q=1/2$) is decided.\n",
    "- Consider one team winning in $4$ games. \n",
    "    - It's binomial in the first $3$ games, the last is sure.\n",
    "    - Probablity: ${3 \\choose 3} p^3q^0p$.\n",
    "- ...in $5$ games. \n",
    "    - ...binomial in the first $4$ games and last is sure.\n",
    "    - Probablity: ${4 \\choose 3} p^3q^1p$.\n",
    "- ...in $6$ games. \n",
    "    - Probablity: ${5 \\choose 3} p^3q^2p$.\n",
    "- ...in $7$ games. \n",
    "    - Probablity: ${6 \\choose 3} p^3q^3p$.\n",
    "\n",
    "In general, $X$'s pmf is given by $2{n-1\\choose 3}p^3q^{n-4}p$, since the series is over if *either* team wins. We print and sum the pmf below."
   ]
  },
  {
   "cell_type": "code",
   "execution_count": 1,
   "metadata": {},
   "outputs": [
    {
     "name": "stdout",
     "output_type": "stream",
     "text": [
      "[1/8, 1/4, 5/16, 5/16]\n"
     ]
    },
    {
     "data": {
      "text/plain": [
       "1"
      ]
     },
     "execution_count": 1,
     "metadata": {},
     "output_type": "execute_result"
    }
   ],
   "source": [
    "var('n')\n",
    "pmf = 2*binomial(n-1,3)*(1/2)^n\n",
    "print [pmf(n=k) for k in [4..7]]\n",
    "sum([pmf(n=k) for k in [4..7]])"
   ]
  },
  {
   "cell_type": "markdown",
   "metadata": {},
   "source": [
    "### Prob 4\n",
    "\n",
    "Suppose $X$ the game number $n \\in \\{4,\\ldots, 7\\}$ on which a World Series between unevenly matched teams ($p=0.6$) is decided. \n",
    "\n",
    "By analogy to above, $X$'s pmf is the sum ${n-1\\choose 3}p^3q^{n-4} + {n-1\\choose 3}p^{n-4}q^3q$. \n",
    "\n",
    "We print the probability that the first team wins on the $n$th game, then the probability that the second team wins on the $n$th game."
   ]
  },
  {
   "cell_type": "code",
   "execution_count": null,
   "metadata": {},
   "outputs": [],
   "source": [
    "p = 0.6\n",
    "q = 1 - p\n",
    "pmf_A = binomial(n-1,3)*p^4*q^(n-4)\n",
    "print [pmf_A(n=k) for k in [4..7]]\n",
    "\n",
    "pmf_B = binomial(n-1,3)*p^(n-4)*q^4\n",
    "print [pmf_B(n=k) for k in [4..7]]\n",
    "sum([pmf_A(n=k)+pmf_B(n=k) for k in [4..7]])"
   ]
  },
  {
   "cell_type": "markdown",
   "metadata": {},
   "source": [
    "### Prob 8\n",
    "Let $X$ be the RV representing Studley's winnings. I write out the respective probabilities for each [minterm](https://en.wikipedia.org/wiki/Canonical_normal_form):\n",
    "\n",
    "| minterm | probability| $X$  |\n",
    "| :---:   | :---:      | ---: |\n",
    "| $(1,1)$ | $7/24$     | $6$  |\n",
    "| $(1,2)$ | $7/24$     | $-5$ |\n",
    "| $(2,1)$ | $5/24$     | $4$  |\n",
    "| $(2,2)$ | $5/24$     | $-5$ |\n",
    "\n",
    "The pmf of $X$ inherits probability mass from the inverse images $X^{-1}(-5)$, $X^{-1}(4)$ and $X^{-1}(6)$.\n",
    "\n",
    "| value $x$   | pmf $p(x)$  |\n",
    "| :---: | :---:      |\n",
    "| $6$   | $\\frac7{24}$     |\n",
    "| $4$   | $\\frac5{24}$     |\n",
    "| $-5$  | $\\frac12$      |\n",
    "\n",
    "I compute the expectation of $X$.\n",
    "$$ E[X] = \\sum_{\\text{all } x} xp(x) = \\frac1{12}.$$\n",
    "\n",
    "So Studley expects to win, on average, eight cents each time he plays. \n",
    "\n",
    "If Studley changed his strategy to hold out a single finger every time, the probability measure on the sample space would become \n",
    "\n",
    "| minterm | probability| $X$  |\n",
    "| :---:   | :---:      | ---: |\n",
    "| $(1,1)$ | $1/2$     | $6$  |\n",
    "| $(1,2)$ | $1/2$     | $-5$ |\n",
    "| $(2,1)$ | $0$     | $4$  |\n",
    "| $(2,2)$ | $0$     | $-5$ |\n",
    "\n",
    "and Studley could expect to win, on average, 50 cents each time."
   ]
  },
  {
   "cell_type": "markdown",
   "metadata": {},
   "source": [
    "### Prob 9\n",
    "\n",
    "Here's a letter count.\n",
    "\n",
    "| The | quick | brown | fox | jumps | over | the | lazy | dog |\n",
    "| --- | ---   | ---   | --- | ---   | ---  | --- | ---  | --- | \n",
    "|  3  |   5   |   5   |  3  |   5   |  4   |  3  |  4   |  3  |"
   ]
  },
  {
   "cell_type": "code",
   "execution_count": null,
   "metadata": {},
   "outputs": [],
   "source": [
    "w = ['the', 'quick' , 'brown' , 'fox' , 'jumps' , 'over' , 'the' , 'lazy' , 'dog']\n",
    "pool = [ (w[i],len(w[i])) for i in range(len(w))]\n",
    "pool"
   ]
  },
  {
   "cell_type": "markdown",
   "metadata": {},
   "source": [
    "Suppose I choose a word at random. Let $X$ be it's length in characters. \n",
    "\n",
    "Here's function to find $\\Pr{X=x}$. I'll print each value and verify they sum to one."
   ]
  },
  {
   "cell_type": "code",
   "execution_count": null,
   "metadata": {},
   "outputs": [],
   "source": [
    "def pmf(x):\n",
    "    i = 0\n",
    "    for pair in pool:\n",
    "        if pair[1] == x:\n",
    "            i = i+1\n",
    "    return(i/len(w))\n",
    "\n",
    "for x in [3..5]:\n",
    "    print (x,pmf(x)) \n",
    "    \n",
    "sum([pmf(x) for x in [3..5]])"
   ]
  },
  {
   "cell_type": "markdown",
   "metadata": {},
   "source": [
    "Similarly, we can compute the expectation of $X$."
   ]
  },
  {
   "cell_type": "code",
   "execution_count": null,
   "metadata": {},
   "outputs": [],
   "source": [
    "sum([x*pmf(x) for x in [3..5]])"
   ]
  },
  {
   "cell_type": "markdown",
   "metadata": {},
   "source": [
    "Here's the variance."
   ]
  },
  {
   "cell_type": "code",
   "execution_count": null,
   "metadata": {},
   "outputs": [],
   "source": [
    "sum([(x - 35/9)^2*pmf(x) for x in [3..5]])"
   ]
  },
  {
   "cell_type": "markdown",
   "metadata": {},
   "source": [
    "### Prob 10\n",
    "The State lottery unveils a new game. Suppose $X$ is an RV representing a player's winnings (ignoring the cost of the game). $X$ is described by its pmf in four tuples."
   ]
  },
  {
   "cell_type": "code",
   "execution_count": null,
   "metadata": {},
   "outputs": [],
   "source": [
    "player = [(5,.1), (2,.3), (1,.2), (0,.4)]\n",
    "player"
   ]
  },
  {
   "cell_type": "markdown",
   "metadata": {},
   "source": [
    "Suppose $W$ is the RV corresponding to the State's winnings. We see that $W$ is the cost of the game *less the player's winnings*. If the game costs $n$ dollars to play, we can describe $W$'s pmf."
   ]
  },
  {
   "cell_type": "code",
   "execution_count": null,
   "metadata": {},
   "outputs": [],
   "source": [
    "n = var('n')\n",
    "state = [(n - entry[0],entry[1]) for entry in player] \n",
    "state"
   ]
  },
  {
   "cell_type": "markdown",
   "metadata": {},
   "source": [
    "The expected winnings of the State are given by"
   ]
  },
  {
   "cell_type": "code",
   "execution_count": null,
   "metadata": {},
   "outputs": [],
   "source": [
    "exp_win = sum([entry[0]*entry[1] for entry in state])\n",
    "exp_win"
   ]
  },
  {
   "cell_type": "markdown",
   "metadata": {},
   "source": [
    "We can see that, if $n = 1.5$, the State can expects to earn $1.5$ from the sale of the game and lose $1.3$ to players. \n",
    "\n",
    "We must choose $n = 1.5$ if the State's expected winnings are to be $0.2$."
   ]
  },
  {
   "cell_type": "markdown",
   "metadata": {},
   "source": [
    "### Prob 11\n",
    "Suppose I pay $2$ dollars to play a game in which I can win either $10$, $5$ or $0$ dollars. Let's describe the RV $X$ representing my winnings with its pmf.\n",
    "\n",
    "| value $x$   | pmf $p(x)$  |\n",
    "| :---: | :---:      |\n",
    "| $8$   | $\\frac4{52}$     |\n",
    "| $3$   | $\\frac{12}{52}$     |\n",
    "| $-2$  | $\\frac{36}{52}$      |\n",
    "\n",
    "Computing $E[X] = \\frac{-4}{52}$, I do not favor this game."
   ]
  },
  {
   "cell_type": "markdown",
   "metadata": {},
   "source": [
    "### Prob 12\n",
    "\n",
    "Suppose I select $n=3$ candidates without replacement from a population of $N=10$, of which $r=3$ members are female and $N-r = 7$ are male. Let $X$ be the RV represeting the number of females selected. \n",
    "\n",
    "I'll model $X$ with the hypergeometric distribution $HG(10,3,3)$. "
   ]
  },
  {
   "cell_type": "code",
   "execution_count": null,
   "metadata": {},
   "outputs": [],
   "source": [
    "import scipy.stats\n",
    "bar_chart([scipy.stats.hypergeom(10,3,3).pmf(x) for x in range(4)])"
   ]
  },
  {
   "cell_type": "markdown",
   "metadata": {},
   "source": [
    "The expected value is $9/10$, but `scipy` truncates this number."
   ]
  },
  {
   "cell_type": "code",
   "execution_count": null,
   "metadata": {},
   "outputs": [],
   "source": [
    "sum([x*scipy.stats.hypergeom(10,3,3).pmf(x) for x in range(4)])"
   ]
  },
  {
   "cell_type": "markdown",
   "metadata": {},
   "source": [
    "### Prob 13\n",
    "Suppose that two dice are rolled. Let $X$ represent the absolute value of the difference between the values facing up. $X$ can be described by its pmf\n",
    "\n",
    "| value $x$   | pmf $p(x)$  |\n",
    "| :---: | :---:      |\n",
    "| $5$   | $\\frac2{36}$     |\n",
    "| $4$   | $\\frac4{36}$     |\n",
    "| $3$   | $\\frac6{36}$     |\n",
    "| $2$   | $\\frac8{36}$     |\n",
    "| $1$   | $\\frac{10}{36}$  |\n",
    "| $0$   | $\\frac6{36}$     |\n",
    "\n",
    "We compute $X$'s expected value $E[X] = \\frac{35}{18}$ and variance $\\sigma^2 = \\frac{665}{324}$."
   ]
  },
  {
   "cell_type": "code",
   "execution_count": null,
   "metadata": {},
   "outputs": [],
   "source": [
    "chart=[(5,2/36), (4,4/36), (3,6/36), (2,8/36), (1, 10/36), (0,6/36)]\n",
    "sum([entry[0]*entry[1] for entry in chart])"
   ]
  },
  {
   "cell_type": "code",
   "execution_count": null,
   "metadata": {},
   "outputs": [],
   "source": [
    "sum([(entry[0]-35/18)^2*entry[1] for entry in chart])"
   ]
  }
 ],
 "metadata": {
  "kernelspec": {
   "display_name": "SageMath 8.7",
   "language": "",
   "name": "sagemath"
  },
  "language_info": {
   "codemirror_mode": {
    "name": "ipython",
    "version": 2
   },
   "file_extension": ".py",
   "mimetype": "text/x-python",
   "name": "python",
   "nbconvert_exporter": "python",
   "pygments_lexer": "ipython2",
   "version": "2.7.15"
  }
 },
 "nbformat": 4,
 "nbformat_minor": 2
}
